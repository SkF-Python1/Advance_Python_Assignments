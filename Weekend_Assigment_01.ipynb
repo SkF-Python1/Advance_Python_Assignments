{
 "cells": [
  {
   "cell_type": "code",
   "execution_count": 16,
   "metadata": {},
   "outputs": [],
   "source": [
    "class Restaurant():\n",
    "    def __init__(self,restaurant_name,cuisine_type):\n",
    "        self.restaurant_name = restaurant_name\n",
    "        self.cuisine_type = cuisine_type\n",
    "        \n",
    "    def describe_restaurant(self,name=\"Enter your name:\"):\n",
    "        print(f'Hello Welcome to {self.restaurant_name} Restaurant')\n",
    "        print(f'Cuisine Offered {self.cuisine_type}.')\n",
    "        print(f'Welcome, {name.title()}.')\n",
    "        \n",
    "        \n",
    "    def open_restaurant(self):\n",
    "        print('Restaurant is open!!!')"
   ]
  },
  {
   "cell_type": "code",
   "execution_count": 17,
   "metadata": {},
   "outputs": [],
   "source": [
    "customer = Restaurant('Python','Indian')"
   ]
  },
  {
   "cell_type": "code",
   "execution_count": 18,
   "metadata": {},
   "outputs": [
    {
     "name": "stdout",
     "output_type": "stream",
     "text": [
      "Hello Welcome to Python Restaurant\n",
      "Cuisine Offered Indian.\n",
      "Welcome, Farhan.\n"
     ]
    }
   ],
   "source": [
    "customer.describe_restaurant('Farhan')"
   ]
  },
  {
   "cell_type": "code",
   "execution_count": 19,
   "metadata": {},
   "outputs": [
    {
     "name": "stdout",
     "output_type": "stream",
     "text": [
      "Restaurant is open!!!\n"
     ]
    }
   ],
   "source": [
    "customer.open_restaurant()"
   ]
  },
  {
   "cell_type": "code",
   "execution_count": null,
   "metadata": {},
   "outputs": [],
   "source": []
  }
 ],
 "metadata": {
  "kernelspec": {
   "display_name": "Python 3",
   "language": "python",
   "name": "python3"
  },
  "language_info": {
   "codemirror_mode": {
    "name": "ipython",
    "version": 3
   },
   "file_extension": ".py",
   "mimetype": "text/x-python",
   "name": "python",
   "nbconvert_exporter": "python",
   "pygments_lexer": "ipython3",
   "version": "3.8.3"
  }
 },
 "nbformat": 4,
 "nbformat_minor": 4
}
