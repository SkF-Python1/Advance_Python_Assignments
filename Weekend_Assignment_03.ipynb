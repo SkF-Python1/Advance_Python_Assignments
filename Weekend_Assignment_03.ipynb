{
 "cells": [
  {
   "cell_type": "code",
   "execution_count": 1,
   "metadata": {},
   "outputs": [],
   "source": [
    "#Weekend Assignment\n"
   ]
  },
  {
   "cell_type": "markdown",
   "metadata": {},
   "source": [
    "# Problem 1"
   ]
  },
  {
   "cell_type": "code",
   "execution_count": 2,
   "metadata": {},
   "outputs": [],
   "source": [
    "rivers = {'Mississippi River':'North America',\n",
    "         'Volga River':'Russia',\n",
    "         'Zambezi River':'Africa',\n",
    "         'Mekong River':'China',\n",
    "         'Ganges':'India',\n",
    "         'Nile':'Egypt',\n",
    "         'Amazon River':'Amazon'}"
   ]
  },
  {
   "cell_type": "code",
   "execution_count": 5,
   "metadata": {},
   "outputs": [
    {
     "name": "stdout",
     "output_type": "stream",
     "text": [
      "The Mississippi River runs thorugh North America.\n",
      "\n",
      "The Volga River runs thorugh Russia.\n",
      "\n",
      "The Zambezi River runs thorugh Africa.\n",
      "\n",
      "The Mekong River runs thorugh China.\n",
      "\n",
      "The Ganges runs thorugh India.\n",
      "\n",
      "The Nile runs thorugh Egypt.\n",
      "\n",
      "The Amazon River runs thorugh Amazon.\n",
      "\n"
     ]
    }
   ],
   "source": [
    "for x,y in rivers.items():\n",
    "    print(f'The {x} runs thorugh {y}.\\n')"
   ]
  },
  {
   "cell_type": "code",
   "execution_count": 7,
   "metadata": {},
   "outputs": [
    {
     "name": "stdout",
     "output_type": "stream",
     "text": [
      "Rivers : Mississippi River.\n",
      "\n",
      "Rivers : Volga River.\n",
      "\n",
      "Rivers : Zambezi River.\n",
      "\n",
      "Rivers : Mekong River.\n",
      "\n",
      "Rivers : Ganges.\n",
      "\n",
      "Rivers : Nile.\n",
      "\n",
      "Rivers : Amazon River.\n",
      "\n"
     ]
    }
   ],
   "source": [
    "for x in rivers.keys():\n",
    "    print(f'Rivers : {x}.\\n')"
   ]
  },
  {
   "cell_type": "code",
   "execution_count": 8,
   "metadata": {},
   "outputs": [
    {
     "name": "stdout",
     "output_type": "stream",
     "text": [
      "Coutries : North America.\n",
      "\n",
      "Coutries : Russia.\n",
      "\n",
      "Coutries : Africa.\n",
      "\n",
      "Coutries : China.\n",
      "\n",
      "Coutries : India.\n",
      "\n",
      "Coutries : Egypt.\n",
      "\n",
      "Coutries : Amazon.\n",
      "\n"
     ]
    }
   ],
   "source": [
    "for x in rivers.values():\n",
    "    print(f'Coutries : {x}.\\n')"
   ]
  },
  {
   "cell_type": "markdown",
   "metadata": {},
   "source": [
    "# Problem 2"
   ]
  },
  {
   "cell_type": "code",
   "execution_count": 2,
   "metadata": {},
   "outputs": [],
   "source": [
    "fav_places = {'Farhan':'Pune',\n",
    "        'Arman':'Mumbai',\n",
    "        'Raj':'Goa',}"
   ]
  },
  {
   "cell_type": "code",
   "execution_count": 3,
   "metadata": {},
   "outputs": [
    {
     "name": "stdout",
     "output_type": "stream",
     "text": [
      "Names are Farhan.\n",
      "\n",
      "Names are Arman.\n",
      "\n",
      "Names are Raj.\n",
      "\n"
     ]
    }
   ],
   "source": [
    "for x in fav_places.keys():\n",
    "    print(f'Names are {x.title()}.\\n')"
   ]
  },
  {
   "cell_type": "code",
   "execution_count": 4,
   "metadata": {},
   "outputs": [
    {
     "name": "stdout",
     "output_type": "stream",
     "text": [
      "The cities are Pune.\n",
      "\n",
      "The cities are Mumbai.\n",
      "\n",
      "The cities are Goa.\n",
      "\n"
     ]
    }
   ],
   "source": [
    "for y in fav_places.values():\n",
    "    print(f'The cities are {y.title()}.\\n')"
   ]
  },
  {
   "cell_type": "code",
   "execution_count": 5,
   "metadata": {},
   "outputs": [
    {
     "name": "stdout",
     "output_type": "stream",
     "text": [
      "Farhan ----> Pune\n",
      "Arman ----> Mumbai\n",
      "Raj ----> Goa\n"
     ]
    }
   ],
   "source": [
    "for x,y in fav_places.items():\n",
    "    print(x,'---->',y)"
   ]
  },
  {
   "cell_type": "code",
   "execution_count": null,
   "metadata": {},
   "outputs": [],
   "source": []
  }
 ],
 "metadata": {
  "kernelspec": {
   "display_name": "Python 3",
   "language": "python",
   "name": "python3"
  },
  "language_info": {
   "codemirror_mode": {
    "name": "ipython",
    "version": 3
   },
   "file_extension": ".py",
   "mimetype": "text/x-python",
   "name": "python",
   "nbconvert_exporter": "python",
   "pygments_lexer": "ipython3",
   "version": "3.8.3"
  }
 },
 "nbformat": 4,
 "nbformat_minor": 4
}
