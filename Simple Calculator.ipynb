{
 "cells": [
  {
   "cell_type": "code",
   "execution_count": 46,
   "metadata": {},
   "outputs": [],
   "source": [
    "class Cal():\n",
    "    def __init__(self,a=0):\n",
    "        self.a = a \n",
    "        print('Calculator running')\n",
    "        print('You can ADD, SUBTRACT, DIVIDE, MULTIPLY, TAKE X^Y, SQUARE ROOT, PRINT FIBONACCI TILL REQUIRED TERMS')\n",
    "        print('Commands ==> add, sub, div, mult, expo, sqrt, fibonacci')\n",
    "       \n",
    "    def add(self,x,y):\n",
    "        return x+y\n",
    "    \n",
    "    def sub(self,x,y):\n",
    "        return x-y\n",
    "    \n",
    "    def div(self,x,y):\n",
    "        return x/y\n",
    "    \n",
    "    def mult(self,x,y):\n",
    "        return x*y\n",
    "    \n",
    "    def expo(self,x='Number',y='Exponent'):\n",
    "        return x**y\n",
    "    \n",
    "    def sqrt(self,x='Enter number'):\n",
    "        return x**(1/2) \n",
    "    \n",
    "    def fibonacci(self,a='Enter number of terms:.'):\n",
    "        num1 = 0\n",
    "        num2 = 1\n",
    "        sum = 0\n",
    "        while sum<a:\n",
    "            print(num1)\n",
    "            ma = num1 + num2\n",
    "            num1 = num2\n",
    "            num2 = ma\n",
    "            sum+=1\n",
    "        "
   ]
  },
  {
   "cell_type": "code",
   "execution_count": null,
   "metadata": {},
   "outputs": [],
   "source": []
  },
  {
   "cell_type": "code",
   "execution_count": null,
   "metadata": {},
   "outputs": [],
   "source": []
  }
 ],
 "metadata": {
  "kernelspec": {
   "display_name": "Python 3",
   "language": "python",
   "name": "python3"
  },
  "language_info": {
   "codemirror_mode": {
    "name": "ipython",
    "version": 3
   },
   "file_extension": ".py",
   "mimetype": "text/x-python",
   "name": "python",
   "nbconvert_exporter": "python",
   "pygments_lexer": "ipython3",
   "version": "3.8.3"
  }
 },
 "nbformat": 4,
 "nbformat_minor": 4
}
